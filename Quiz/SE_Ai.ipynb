{
 "cells": [
  {
   "cell_type": "markdown",
   "metadata": {},
   "source": [
    "# QUIZ - 2024-08"
   ]
  },
  {
   "cell_type": "code",
   "execution_count": 4,
   "metadata": {
    "vscode": {
     "languageId": "plaintext"
    }
   },
   "outputs": [
    {
     "name": "stdout",
     "output_type": "stream",
     "text": [
      "Haircut by Provider 1\n",
      "Manicure by Provider 1\n",
      "Massage by Provider 1\n",
      "Haircut by Provider 2\n",
      "Manicure by Provider 2\n",
      "Massage by Provider 2\n",
      "Haircut by Provider 3\n",
      "Manicure by Provider 3\n",
      "Massage by Provider 3\n",
      "Haircut by Provider 4\n",
      "Manicure by Provider 4\n",
      "Massage by Provider 4\n"
     ]
    }
   ],
   "source": [
    "import os\n",
    "os.environ[\"DJANGO_ALLOW_ASYNC_UNSAFE\"] = \"true\"\n",
    "from service.models import Service\n",
    "\n",
    "for service in Service.objects.all():\n",
    "    print(service)"
   ]
  },
  {
   "cell_type": "markdown",
   "metadata": {},
   "source": [
    "## PART 1 - CRUD Operations\n",
    "1.1 สร้างนัดหมาย (`Appointment`) ของลูกค้า \"Customer 1\" ซึ่งต้องการจองบริการ \"Haircut\" ของ \"Provider 2\"\n",
    "\n",
    "โดยสร้างนัดหมายในวันที่ 2024-10-01 เวลา 11:00 น. \n",
    "\n",
    "(0.5 คะแนน)\n",
    "\n",
    "*หมายเหตุ: จะต้อง get ข้อมูลมาโดยใช้การ query ด้วยชื่อตามที่โจทย์ว่าเท่านั้น ห้ามใช้ id ใน database*"
   ]
  },
  {
   "cell_type": "code",
   "execution_count": 18,
   "metadata": {
    "vscode": {
     "languageId": "plaintext"
    }
   },
   "outputs": [],
   "source": [
    "# CODE HERE\n",
    "from service.models import *\n",
    "from datetime import datetime, timedelta\n",
    "\n",
    "cus1 = Customer.objects.get(name='Customer 1')\n",
    "appoin_service = Service.objects.filter(name='Haircut',service_provider__name='Provider 2')[0]\n",
    "new_appoin = Appointment(customer=cus1,service=appoin_service,appointment_date='2024-10-01',appointment_time='11:00:00')\n",
    "new_appoin.save()"
   ]
  },
  {
   "cell_type": "code",
   "execution_count": 19,
   "metadata": {
    "vscode": {
     "languageId": "plaintext"
    }
   },
   "outputs": [
    {
     "name": "stdout",
     "output_type": "stream",
     "text": [
      "Appoint Date: 2024-10-01, Appoint Time: 11:00:00\n",
      "Service Name: Haircut, Provider Name: Provider 2, Customer Name: Customer 1\n"
     ]
    }
   ],
   "source": [
    "# Check result\n",
    "res = Appointment.objects.last()\n",
    "print(f\"Appoint Date: {res.appointment_date}, Appoint Time: {res.appointment_time}\")\n",
    "print(f\"Service Name: {res.service.name}, Provider Name: {res.service.service_provider.name}, Customer Name: {res.customer.name}\")"
   ]
  },
  {
   "cell_type": "code",
   "execution_count": null,
   "metadata": {},
   "outputs": [],
   "source": []
  },
  {
   "cell_type": "markdown",
   "metadata": {},
   "source": [
    "1.2 ทำการแก้ไขนัดหมายที่เพิ่งสร้างใน 1.1 โดยเปลี่ยนวันที่จากวันที่ 2024-10-01 เป็น 2024-10-10 เวลาเดิม\n",
    "\n",
    "(0.25 คะแนน)"
   ]
  },
  {
   "cell_type": "code",
   "execution_count": 20,
   "metadata": {
    "vscode": {
     "languageId": "plaintext"
    }
   },
   "outputs": [],
   "source": [
    "# CODE HERE\n",
    "new_appoin.appointment_date = '2024-10-10'\n",
    "new_appoin.save()"
   ]
  },
  {
   "cell_type": "code",
   "execution_count": 21,
   "metadata": {
    "vscode": {
     "languageId": "plaintext"
    }
   },
   "outputs": [
    {
     "name": "stdout",
     "output_type": "stream",
     "text": [
      "Appoint Date: 2024-10-10, Appoint Time: 11:00:00\n",
      "Service Name: Haircut, Provider Name: Provider 2, Customer Name: Customer 1\n"
     ]
    }
   ],
   "source": [
    "# Check result\n",
    "res = Appointment.objects.last()\n",
    "print(f\"Appoint Date: {res.appointment_date}, Appoint Time: {res.appointment_time}\")\n",
    "print(f\"Service Name: {res.service.name}, Provider Name: {res.service.service_provider.name}, Customer Name: {res.customer.name}\")"
   ]
  },
  {
   "cell_type": "markdown",
   "metadata": {},
   "source": [
    "1.3 ทำการแก้ไขนัดหมาย ณ วันที่ 2024-08-14 ของ \"Customer 4\" โดยเปลี่ยนจากเดิมที่นัดมาให้บริการ \"Manicure\" ของ \"Provider 3\" เป็น \"Massage\" ของ \"Provider 4\" แทน\n",
    "\n",
    "(0.25 คะแนน)\n",
    "\n",
    "*หมายเหตุ: จะต้อง get ข้อมูลมาโดยใช้การ query ด้วยชื่อตามที่โจทย์ว่าเท่านั้น ห้ามใช้ id ใน database*"
   ]
  },
  {
   "cell_type": "code",
   "execution_count": 26,
   "metadata": {
    "vscode": {
     "languageId": "plaintext"
    }
   },
   "outputs": [],
   "source": [
    "# CODE HERE\n",
    "from datetime import datetime, timedelta, date\n",
    "old_appoint = Appointment.objects.get(customer__name=\"Customer 4\", appointment_date=date(2024,8,14))\n",
    "new_service = Service.objects.get(name='Massage',service_provider__name='Provider 4')\n",
    "old_appoint.service = new_service\n",
    "old_appoint.save()"
   ]
  },
  {
   "cell_type": "code",
   "execution_count": 27,
   "metadata": {
    "vscode": {
     "languageId": "plaintext"
    }
   },
   "outputs": [
    {
     "name": "stdout",
     "output_type": "stream",
     "text": [
      "Appoint Date: 2024-08-14, Appoint Time: 10:00:00\n",
      "Service Name: Massage, Provider Name: Provider 4, Customer Name: Customer 4\n"
     ]
    }
   ],
   "source": [
    "# Check result\n",
    "res = Appointment.objects.get(customer__name=\"Customer 4\", appointment_date=date(2024,8,14))\n",
    "print(f\"Appoint Date: {res.appointment_date}, Appoint Time: {res.appointment_time}\")\n",
    "print(f\"Service Name: {res.service.name}, Provider Name: {res.service.service_provider.name}, Customer Name: {res.customer.name}\")"
   ]
  },
  {
   "cell_type": "markdown",
   "metadata": {},
   "source": [
    "1.4 ทำตามขั้นตอนดังนี้\n",
    "\n",
    "1. สร้างหมวดหมู่บริการ (`ServiceCategory`) ใหม่ชื่อ \"Facial & Body Care\" และมีรายละเอียดว่า \"Services related to face & body care\" \n",
    "2. สร้าง บริการ (`Service`) ใหม่ดังนี้ \n",
    "\n",
    "    - Name: \"Face Massage\"\n",
    "    - Description: \"Special face massage!\"\n",
    "    - Price: 150.00\n",
    "    - โดยบริการนี้ให้บริการโดย \"Provider 1\" และ \"Provider 2\" (Hint: ดังนั้นต้องสร้าง 2 รายการ)\n",
    "\n",
    "3. เพิ่มบริการใหม่ทั้ง 2 รายการเข้าไปในหมวดหมู่ \"Facial & Body Care\"\n",
    "4. ทำการย้ายบริการ (`Service`) ในหมวดหมู่บริการ (`ServiceCategory`) \"Body Care\" ไปที่ หมวดหมู่ \"Facial & Body Care\" ที่สร้างขึ้นมาใหม่\n",
    "5. ทำการลบหมวดหมู่บริการ \"Body Care\"\n",
    "\n",
    "(1 คะแนน)"
   ]
  },
  {
   "cell_type": "code",
   "execution_count": 34,
   "metadata": {},
   "outputs": [],
   "source": [
    "new_servicecat = ServiceCategory.objects.create(name='Facial & Body Care',description='Services related to face & body care')\n",
    "new_servicecat.save()"
   ]
  },
  {
   "cell_type": "code",
   "execution_count": 35,
   "metadata": {
    "vscode": {
     "languageId": "plaintext"
    }
   },
   "outputs": [],
   "source": [
    "# CODE HERE\n",
    "provider1 = ServiceProvider.objects.get(name='Provider 1')\n",
    "provider2 = ServiceProvider.objects.get(name='Provider 2')\n",
    "service1 = Service.objects.create(name='Face Massage',description='Special face massage!',price=150.00,service_provider=provider1)\n",
    "service2 = Service.objects.create(name='Face Massage',description='Special face massage!',price=150.00,service_provider=provider1)\n",
    "new_servicecat = ServiceCategory.objects.get(name='Facial & Body Care')\n",
    "new_servicecat.services.add(service1,service2)\n",
    "servive_change = Service.objects.filter(servicecategory__name='Body Care')\n",
    "for service in servive_change:\n",
    "    new_servicecat.services.add(service)\n",
    "    new_servicecat.save()"
   ]
  },
  {
   "cell_type": "code",
   "execution_count": 36,
   "metadata": {},
   "outputs": [
    {
     "data": {
      "text/plain": [
       "(6, {'service.ServiceCategory_services': 5, 'service.ServiceCategory': 1})"
      ]
     },
     "execution_count": 36,
     "metadata": {},
     "output_type": "execute_result"
    }
   ],
   "source": [
    "del_service = ServiceCategory.objects.get(name='Body Care')\n",
    "del_service.delete()"
   ]
  },
  {
   "cell_type": "code",
   "execution_count": 37,
   "metadata": {
    "vscode": {
     "languageId": "plaintext"
    }
   },
   "outputs": [
    {
     "data": {
      "text/plain": [
       "7"
      ]
     },
     "execution_count": 37,
     "metadata": {},
     "output_type": "execute_result"
    }
   ],
   "source": [
    "# Check result\n",
    "sc1 = ServiceCategory.objects.get(name=\"Facial & Body Care\")\n",
    "sc1.services.count()"
   ]
  },
  {
   "cell_type": "markdown",
   "metadata": {},
   "source": [
    "## PART 2 - Making Queries\n",
    "\n",
    "สำหรับ PART 2 ให้ทำการ reset DB และ import ข้อมูลใน `service.sql` เข้าไปใหม่"
   ]
  },
  {
   "cell_type": "markdown",
   "metadata": {},
   "source": [
    "2.1 ให้หาจำนวนนัดหมาย ที่ถูกสร้าง (`Appointment.created_at`) ในช่วงวันที่ 2024-08-01 ถึง 2024-08-02 \n",
    "\n",
    "(0.5 คะแนน)"
   ]
  },
  {
   "cell_type": "code",
   "execution_count": 43,
   "metadata": {},
   "outputs": [
    {
     "data": {
      "text/plain": [
       "4"
      ]
     },
     "execution_count": 43,
     "metadata": {},
     "output_type": "execute_result"
    }
   ],
   "source": [
    "# CODE HERE 0.5\n",
    "from zoneinfo import ZoneInfo\n",
    "from datetime import *\n",
    "app = Appointment.objects.filter(created_at__range = \n",
    "(datetime(2024, 8, 1, tzinfo = ZoneInfo(key='Asia/Bangkok')), datetime(2024, 8, 2, tzinfo = ZoneInfo(key='Asia/Bangkok'))))\n",
    "app.count()"
   ]
  },
  {
   "cell_type": "code",
   "execution_count": 44,
   "metadata": {},
   "outputs": [
    {
     "data": {
      "text/plain": [
       "4"
      ]
     },
     "execution_count": 44,
     "metadata": {},
     "output_type": "execute_result"
    }
   ],
   "source": [
    "#อีดราคริส\n",
    "app = Appointment.objects.filter(created_at__range = (\"2024-08-01 00:00:00+07\", \"2024-08-02 00:00:00+07\"))\n",
    "app.count()"
   ]
  },
  {
   "cell_type": "markdown",
   "metadata": {},
   "source": [
    "2.2 ให้หาว่ามีบริการใด ของผู้ให้บริการไหนบ้าง ที่มีการนัดหมายท่ีมีการนัดหมาย (`Appointment.appoint_date`) ในช่วงวันที่ 2024-08-10 ถึง 2024-08-15\n",
    "\n",
    "(0.5 คะแนน)\n",
    "\n",
    "**Expected Output**\n",
    "\n",
    "```\n",
    "Name: Massage, Provider: Provider 1\n",
    "Name: Manicure, Provider: Provider 2\n",
    "Name: Manicure, Provider: Provider 2\n",
    "Name: Manicure, Provider: Provider 2\n",
    "Name: Massage, Provider: Provider 2\n",
    "Name: Manicure, Provider: Provider 3\n",
    "Name: Massage, Provider: Provider 3\n",
    "```"
   ]
  },
  {
   "cell_type": "code",
   "execution_count": 53,
   "metadata": {
    "scrolled": true
   },
   "outputs": [
    {
     "name": "stdout",
     "output_type": "stream",
     "text": [
      "Name: Massage by Provider 1, Provider: Provider 1\n",
      "Name: Manicure by Provider 2, Provider: Provider 2\n",
      "Name: Manicure by Provider 2, Provider: Provider 2\n",
      "Name: Manicure by Provider 2, Provider: Provider 2\n",
      "Name: Massage by Provider 2, Provider: Provider 2\n",
      "Name: Manicure by Provider 3, Provider: Provider 3\n",
      "Name: Massage by Provider 3, Provider: Provider 3\n"
     ]
    }
   ],
   "source": [
    "# CODE HERE 1\n",
    "\n",
    "appoin = Appointment.objects.filter(appointment_date__range=('2024-08-10','2024-08-15')).order_by(\"service__service_provider__name\")\n",
    "for i in appoin:\n",
    "    print(f'Name: {i.service}, Provider: {i.service.service_provider.name}')"
   ]
  },
  {
   "cell_type": "markdown",
   "metadata": {},
   "source": [
    "2.3 ให้แสดงผลข้อมูลบริการ (`Service`) โดยเรียงลำดับตามราคา (`Service.price`) จากน้อยไปมาก ดังในตัวอย่าง\n",
    "\n",
    "```python\n",
    "[\n",
    "    {\n",
    "        \"price\": 100,\n",
    "        \"full_name\": \"Massage (Provider 1)\"\n",
    "    },\n",
    "    {\n",
    "        \"price\": 100,\n",
    "        \"full_name\": \"Massage (Provider 2)\"\n",
    "    },\n",
    "    {\n",
    "        \"price\": 100,\n",
    "        \"full_name\": \"Massage (Provider 3)\"\n",
    "    },\n",
    "    {\n",
    "        \"price\": 100,\n",
    "        \"full_name\": \"Massage (Provider 4)\"\n",
    "    },\n",
    "    {\n",
    "        \"price\": 30,\n",
    "        \"full_name\": \"Manicure (Provider 4)\"\n",
    "    },\n",
    "    {\n",
    "        \"price\": 30,\n",
    "        \"full_name\": \"Manicure (Provider 1)\"\n",
    "    },\n",
    "    {\n",
    "        \"price\": 30,\n",
    "        \"full_name\": \"Manicure (Provider 3)\"\n",
    "    },\n",
    "    {\n",
    "        \"price\": 30,\n",
    "        \"full_name\": \"Manicure (Provider 2)\"\n",
    "    },\n",
    "    {\n",
    "        \"price\": 20,\n",
    "        \"full_name\": \"Haircut (Provider 4)\"\n",
    "    },\n",
    "    {\n",
    "        \"price\": 20,\n",
    "        \"full_name\": \"Haircut (Provider 2)\"\n",
    "    },\n",
    "    {\n",
    "        \"price\": 20,\n",
    "        \"full_name\": \"Haircut (Provider 3)\"\n",
    "    },\n",
    "    {\n",
    "        \"price\": 20,\n",
    "        \"full_name\": \"Haircut (Provider 1)\"\n",
    "    }\n",
    "]\n",
    "```\n",
    "\n",
    "(0.5 คะแนน)\n",
    "\n",
    "*หมายเหตุ: จะต้องใช้ `annotate()` และ `values()` เท่านั้น การ loop และสร้าง dict เองจะไม่ได้คะแนน*\n",
    "\n",
    "Hint: อยาก print dictionary สวยๆ ใช้ json.dumps\n",
    "\n",
    "```python\n",
    "print(json.dumps(dictionary, indent=4, sort_keys=False))\n",
    "```"
   ]
  },
  {
   "cell_type": "code",
   "execution_count": 72,
   "metadata": {},
   "outputs": [
    {
     "name": "stdout",
     "output_type": "stream",
     "text": [
      "[\n",
      "    {\n",
      "        \"price\": 100,\n",
      "        \"full_name\": \"Massage(Provider 4)\"\n",
      "    },\n",
      "    {\n",
      "        \"price\": 100,\n",
      "        \"full_name\": \"Massage(Provider 2)\"\n",
      "    },\n",
      "    {\n",
      "        \"price\": 100,\n",
      "        \"full_name\": \"Massage(Provider 1)\"\n",
      "    },\n",
      "    {\n",
      "        \"price\": 100,\n",
      "        \"full_name\": \"Massage(Provider 3)\"\n",
      "    },\n",
      "    {\n",
      "        \"price\": 30,\n",
      "        \"full_name\": \"Manicure(Provider 3)\"\n",
      "    },\n",
      "    {\n",
      "        \"price\": 30,\n",
      "        \"full_name\": \"Manicure(Provider 1)\"\n",
      "    },\n",
      "    {\n",
      "        \"price\": 30,\n",
      "        \"full_name\": \"Manicure(Provider 4)\"\n",
      "    },\n",
      "    {\n",
      "        \"price\": 30,\n",
      "        \"full_name\": \"Manicure(Provider 2)\"\n",
      "    },\n",
      "    {\n",
      "        \"price\": 20,\n",
      "        \"full_name\": \"Haircut(Provider 3)\"\n",
      "    },\n",
      "    {\n",
      "        \"price\": 20,\n",
      "        \"full_name\": \"Haircut(Provider 2)\"\n",
      "    },\n",
      "    {\n",
      "        \"price\": 20,\n",
      "        \"full_name\": \"Haircut(Provider 1)\"\n",
      "    },\n",
      "    {\n",
      "        \"price\": 20,\n",
      "        \"full_name\": \"Haircut(Provider 4)\"\n",
      "    }\n",
      "]\n"
     ]
    }
   ],
   "source": [
    "# CODE HERE 1.5\n",
    "from django.db.models.functions import Concat\n",
    "from django.db.models import Value\n",
    "import json\n",
    "\n",
    "show = Service.objects.annotate(full_name=Concat(F('name'), Value('('), F('service_provider__name'), Value(')'),)).values(\"price\",\"full_name\").order_by(\"-price\")\n",
    "print(json.dumps(list(show), indent=4, sort_keys=False))"
   ]
  },
  {
   "cell_type": "markdown",
   "metadata": {},
   "source": [
    "2.4 ให้หาจำนวนนัดหมายของลูกค้าแต่ละคน\n",
    "\n",
    "(0.5 คะแนน)\n",
    "\n",
    "*หมายเหตุ: จะต้องใช้ `annotate()` และ `values()`*\n",
    "\n",
    "**Expected Output**\n",
    "\n",
    "```python\n",
    "Name: Customer 4, Total Appoinment: 3\n",
    "Name: Customer 2, Total Appoinment: 4\n",
    "Name: Customer 3, Total Appoinment: 3\n",
    "Name: Customer 1, Total Appoinment: 5\n",
    "```"
   ]
  },
  {
   "cell_type": "code",
   "execution_count": 84,
   "metadata": {
    "scrolled": true
   },
   "outputs": [
    {
     "name": "stdout",
     "output_type": "stream",
     "text": [
      "Name: Customer Customer 4, Total Appoinment: 3\n",
      "Name: Customer Customer 2, Total Appoinment: 4\n",
      "Name: Customer Customer 3, Total Appoinment: 3\n",
      "Name: Customer Customer 1, Total Appoinment: 5\n"
     ]
    }
   ],
   "source": [
    "# CODE HERE 1\n",
    "num_appoins = Customer.objects.annotate(count = Count('appointment')).values(\"name\", 'count')\n",
    "for i in num_appoins:\n",
    "    print(f\"Name: Customer {i['name']}, Total Appoinment: {i['count']}\")"
   ]
  },
  {
   "cell_type": "code",
   "execution_count": 85,
   "metadata": {},
   "outputs": [
    {
     "name": "stdout",
     "output_type": "stream",
     "text": [
      "Name: Customer 4, Total Appoinment: 3\n",
      "Name: Customer 2, Total Appoinment: 4\n",
      "Name: Customer 3, Total Appoinment: 3\n",
      "Name: Customer 1, Total Appoinment: 5\n"
     ]
    }
   ],
   "source": [
    "# CODE HERE 2\n",
    "val = Appointment.objects.filter(Q(customer__name = 'Customer 1') | Q(customer__name = 'Customer 2')| Q(customer__name = 'Customer 3')| Q(customer__name = 'Customer 4')).values('customer__name').annotate(count=Count('customer_id'))\n",
    "for obj in val:\n",
    "    print(f\"Name: {obj['customer__name']}, Total Appoinment: {obj['count']}\")"
   ]
  },
  {
   "cell_type": "code",
   "execution_count": 86,
   "metadata": {},
   "outputs": [
    {
     "name": "stdout",
     "output_type": "stream",
     "text": [
      "Name: Customer 2, Total Appoinment: 4\n",
      "Name: Customer 4, Total Appoinment: 3\n",
      "Name: Customer 3, Total Appoinment: 3\n",
      "Name: Customer 1, Total Appoinment: 5\n"
     ]
    }
   ],
   "source": [
    "# CODE HERE 3\n",
    "val = Appointment.objects.values('customer__name').annotate(count=Count('customer_id'))\n",
    "for obj in val:\n",
    "    print(f\"Name: {obj['customer__name']}, Total Appoinment: {obj['count']}\")"
   ]
  },
  {
   "cell_type": "markdown",
   "metadata": {},
   "source": [
    "2.5 ให้หาว่าผู้ให้บริการ (`ServiceProvider`) แต่ละคนนั้นได้เงินโดยรวมเท่าไหร่\n",
    "\n",
    "Hint: ดูจากนั้ดหมายว่ามีการนัดบริการ (`Appointment.service`) ของแต่ละผู้ให้บริการรวมเป็นยอดเงินเท่าไหร่\n",
    "\n",
    "*หมายเหตุ: ไม่จำเป็นต้องใช้ `annotate()` สามารถ loop ได้เต็มที่เลยครับ*\n",
    "\n",
    "**Expected Output**\n",
    "\n",
    "```python\n",
    "Name: Provider 4, Total Price: 20\n",
    "Name: Provider 2, Total Price: 210\n",
    "Name: Provider 3, Total Price: 130\n",
    "Name: Provider 1, Total Price: 410\n",
    "```"
   ]
  },
  {
   "cell_type": "code",
   "execution_count": 101,
   "metadata": {},
   "outputs": [
    {
     "name": "stdout",
     "output_type": "stream",
     "text": [
      "Name: Provider 1, Total Price: 410\n",
      "Name: Provider 4, Total Price: 20\n",
      "Name: Provider 2, Total Price: 210\n",
      "Name: Provider 3, Total Price: 130\n"
     ]
    }
   ],
   "source": [
    "# CODE HERE\n",
    "price = Appointment.objects.values('service__service_provider__name').annotate(salary = Sum('service__price'))\n",
    "for i in price:\n",
    "    print(f'Name: {i[\"service__service_provider__name\"]}, Total Price: {i[\"salary\"]}')"
   ]
  },
  {
   "cell_type": "markdown",
   "metadata": {},
   "source": [
    "2.6 ให้ดึงข้อมูลหมวดหมู่บริการโดยแปลงชื่อหมวดหมู่บริการ (`ServiceCategory.name`) เป็นตัวใหญ่ (uppercase) ทั้งหมด\n",
    "\n",
    "(0.5 คะแนน)\n",
    "\n",
    "**Expected Output**\n",
    "\n",
    "```python\n",
    "Name: Hair Care, Upper Name: HAIR CARE\n",
    "Name: Nail Care, Upper Name: NAIL CARE\n",
    "Name: Body Care, Upper Name: BODY CARE\n",
    "```"
   ]
  },
  {
   "cell_type": "code",
   "execution_count": 109,
   "metadata": {},
   "outputs": [
    {
     "name": "stdout",
     "output_type": "stream",
     "text": [
      "Name: Hair Care, Upper Name: HAIR CARE\n",
      "Name: Nail Care, Upper Name: NAIL CARE\n",
      "Name: Body Care, Upper Name: BODY CARE\n"
     ]
    }
   ],
   "source": [
    "# CODE HERE\n",
    "ser = ServiceCategory.objects.all()\n",
    "for i in ser:\n",
    "    print(f'Name: {i.name}, Upper Name: {i.name.upper()}')"
   ]
  },
  {
   "cell_type": "code",
   "execution_count": 5,
   "metadata": {},
   "outputs": [
    {
     "name": "stdout",
     "output_type": "stream",
     "text": [
      "Name: Hair Care, Upper Name: hair care\n",
      "Name: Nail Care, Upper Name: nail care\n",
      "Name: Body Care, Upper Name: body care\n"
     ]
    }
   ],
   "source": [
    "# สเปเชียลล\n",
    "ser = ServiceCategory.objects.all()\n",
    "for i in ser:\n",
    "    print(f'Name: {i.name}, Upper Name: {i.name.lower()}')\n"
   ]
  },
  {
   "cell_type": "code",
   "execution_count": null,
   "metadata": {},
   "outputs": [],
   "source": []
  }
 ],
 "metadata": {
  "kernelspec": {
   "display_name": "Django Shell-Plus",
   "language": "python",
   "name": "django_extensions"
  },
  "language_info": {
   "codemirror_mode": {
    "name": "ipython",
    "version": 3
   },
   "file_extension": ".py",
   "mimetype": "text/x-python",
   "name": "python",
   "nbconvert_exporter": "python",
   "pygments_lexer": "ipython3",
   "version": "3.11.9"
  }
 },
 "nbformat": 4,
 "nbformat_minor": 2
}
